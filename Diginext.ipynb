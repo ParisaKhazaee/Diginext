{
 "cells": [
  {
   "cell_type": "markdown",
   "metadata": {},
   "source": [
    "### Question 1"
   ]
  },
  {
   "cell_type": "code",
   "execution_count": 45,
   "metadata": {},
   "outputs": [],
   "source": [
    "def extendString(input_str: str, input_len:int) -> str:\n",
    "    \n",
    "    input_str = input_str.lower()\n",
    "    len_str = len(input_str)\n",
    "\n",
    "    quotient = int(input_len / len_str)\n",
    "    reminder = int(input_len % len_str)\n",
    "\n",
    "    output_str = input_str*quotient + input_str[:reminder]\n",
    "    number_of_a = output_str.count('a')\n",
    "    \n",
    "    return output_str, number_of_a"
   ]
  },
  {
   "cell_type": "code",
   "execution_count": 43,
   "metadata": {},
   "outputs": [
    {
     "name": "stdout",
     "output_type": "stream",
     "text": [
      "Output String Is: ab\n",
      "\n",
      "Number Of 'a' In String: 1\n"
     ]
    }
   ],
   "source": [
    "output_str, number_of_a = extend_string('abacc', 2)\n",
    "\n",
    "print(\"Output String: \" + output_str + \"\\n\")\n",
    "print(\"Number Of 'a' In Output: \" + str(number_of_a))"
   ]
  },
  {
   "cell_type": "markdown",
   "metadata": {},
   "source": [
    "### Question 2"
   ]
  },
  {
   "cell_type": "code",
   "execution_count": 2,
   "metadata": {},
   "outputs": [],
   "source": [
    "import re"
   ]
  },
  {
   "cell_type": "code",
   "execution_count": 28,
   "metadata": {},
   "outputs": [],
   "source": [
    "def numberOfExtraChar(input_str: str) -> int:\n",
    "    \n",
    "    input_str = input_str.lower()\n",
    "    index_list_ab = [match.start() for match in re.finditer('ab', input_str)]\n",
    "    number_of_del_char_ab = len(input_str) - (2*len(index_list_ab)) \n",
    "    \n",
    "    index_list_ba = [match.start() for match in re.finditer('ba', input_str)]\n",
    "    number_of_del_char_ba = len(input_str) - (2*len(index_list_ba)) \n",
    "    \n",
    "    if number_of_del_char_ab < number_of_del_char_ba:\n",
    "        return number_of_del_char_ab\n",
    "    elif number_of_del_char_ab > number_of_del_char_ba:\n",
    "        return number_of_del_char_ba\n",
    "    elif number_of_del_char_ab == number_of_del_char_ba == len(input_str):\n",
    "        return len(input_str) -1 \n",
    "    else:\n",
    "        return number_of_del_char_ba"
   ]
  },
  {
   "cell_type": "code",
   "execution_count": 31,
   "metadata": {},
   "outputs": [
    {
     "name": "stdout",
     "output_type": "stream",
     "text": [
      "3 Character Must Be Delete\n"
     ]
    }
   ],
   "source": [
    "input_str = 'AAAA'\n",
    "number_of_extra_char = numberOfExtraChar(input_str=input_str)\n",
    "\n",
    "print(str(number_of_extra_char) + \" Character Must Be Delete\")"
   ]
  },
  {
   "cell_type": "markdown",
   "metadata": {},
   "source": [
    "### Question 3"
   ]
  },
  {
   "cell_type": "code",
   "execution_count": 5,
   "metadata": {},
   "outputs": [],
   "source": [
    "def minimumSwaps(input_array: list):\n",
    "    min_num_swaps = 0; \n",
    "    i = 0; \n",
    "    while (i < len(input_array)):  \n",
    "        if (input_array[i] != i + 1): \n",
    "            while (input_array[i] != i + 1): \n",
    "                temp = 0; \n",
    "                temp = input_array[input_array[i] - 1]; \n",
    "                input_array[input_array[i] - 1] = input_array[i]; \n",
    "                input_array[i] = temp; \n",
    "                min_num_swaps += 1; \n",
    "\n",
    "        i += 1; \n",
    "      \n",
    "    return min_num_swaps;"
   ]
  },
  {
   "cell_type": "code",
   "execution_count": 6,
   "metadata": {},
   "outputs": [
    {
     "name": "stdout",
     "output_type": "stream",
     "text": [
      "Minimum Number Of Swap: 5\n"
     ]
    }
   ],
   "source": [
    "input_array = [7,1,3,2,4,5,6]\n",
    "\n",
    "number_of_moves = minimumSwaps(input_array)\n",
    "print(\"Minimum Number Of Swap: \" + str(number_of_moves))"
   ]
  },
  {
   "cell_type": "code",
   "execution_count": null,
   "metadata": {},
   "outputs": [],
   "source": []
  }
 ],
 "metadata": {
  "kernelspec": {
   "display_name": "Python 3",
   "language": "python",
   "name": "python3"
  },
  "language_info": {
   "codemirror_mode": {
    "name": "ipython",
    "version": 3
   },
   "file_extension": ".py",
   "mimetype": "text/x-python",
   "name": "python",
   "nbconvert_exporter": "python",
   "pygments_lexer": "ipython3",
   "version": "3.7.0"
  }
 },
 "nbformat": 4,
 "nbformat_minor": 2
}
